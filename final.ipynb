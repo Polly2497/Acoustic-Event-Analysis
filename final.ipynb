{
 "cells": [
  {
   "cell_type": "code",
   "execution_count": 1,
   "metadata": {},
   "outputs": [],
   "source": [
    "DATA_PATH = 'C:/Users/korob/Desktop/Lab-2/'\n",
    "\n",
    "# names of valuable files/folders\n",
    "train_meta_fname = 'train.csv'\n",
    "test_meta_fname = 'sample_submission.csv'\n",
    "train_data_folder = 'train'\n",
    "test_data_folder = 'test'"
   ]
  },
  {
   "cell_type": "code",
   "execution_count": 2,
   "metadata": {},
   "outputs": [
    {
     "name": "stdout",
     "output_type": "stream",
     "text": [
      "Collecting git+https://github.com/pytorch/audio\n",
      "  Cloning https://github.com/pytorch/audio to c:\\users\\korob\\appdata\\local\\temp\\pip-req-build-ro6ogxcg\n",
      "Requirement already satisfied (use --upgrade to upgrade): torchaudio==0.6.0a0+9835db7 from git+https://github.com/pytorch/audio in c:\\users\\korob\\miniconda3\\lib\\site-packages\n",
      "Requirement already satisfied: torch in c:\\users\\korob\\miniconda3\\lib\\site-packages (from torchaudio==0.6.0a0+9835db7) (1.6.0.dev20200513)\n",
      "Requirement already satisfied: future in c:\\users\\korob\\miniconda3\\lib\\site-packages (from torch->torchaudio==0.6.0a0+9835db7) (0.18.2)\n",
      "Requirement already satisfied: numpy in c:\\users\\korob\\miniconda3\\lib\\site-packages (from torch->torchaudio==0.6.0a0+9835db7) (1.16.5)\n",
      "Building wheels for collected packages: torchaudio\n",
      "  Building wheel for torchaudio (setup.py): started\n",
      "  Building wheel for torchaudio (setup.py): finished with status 'done'\n",
      "  Created wheel for torchaudio: filename=torchaudio-0.6.0a0+9835db7-cp37-none-any.whl size=69628 sha256=5d55657d6ec37753f6f1e815ece697bfb6514543462bd84a076683ef3f1b4e1c\n",
      "  Stored in directory: C:\\Users\\korob\\AppData\\Local\\Temp\\pip-ephem-wheel-cache-3yz2ggyj\\wheels\\6b\\7e\\7a\\ee4ed533517964e33dc9c0ec29435f8492c976ea85c795527b\n",
      "Successfully built torchaudio\n",
      "Note: you may need to restart the kernel to use updated packages.\n"
     ]
    },
    {
     "name": "stderr",
     "output_type": "stream",
     "text": [
      "  Running command git clone -q https://github.com/pytorch/audio 'C:\\Users\\korob\\AppData\\Local\\Temp\\pip-req-build-ro6ogxcg'\n"
     ]
    }
   ],
   "source": [
    "pip install git+https://github.com/pytorch/audio"
   ]
  },
  {
   "cell_type": "code",
   "execution_count": 3,
   "metadata": {},
   "outputs": [
    {
     "name": "stdout",
     "output_type": "stream",
     "text": [
      "[('__call__', <function LevelMapper.__call__ at 0x0000011D5BC991E0>), ('__init__', <function LevelMapper.__init__ at 0x0000011D5BC99158>)]\n",
      "[('__call__', <function BalancedPositiveNegativeSampler.__call__ at 0x0000011D5CD12BF8>), ('__init__', <function BalancedPositiveNegativeSampler.__init__ at 0x0000011D5CD12B70>)]\n",
      "[('__init__', <function BoxCoder.__init__ at 0x0000011D5CD340D0>), ('decode', <function BoxCoder.decode at 0x0000011D5CD34268>), ('decode_single', <function BoxCoder.decode_single at 0x0000011D5CD342F0>), ('encode', <function BoxCoder.encode at 0x0000011D5CD34158>), ('encode_single', <function BoxCoder.encode_single at 0x0000011D5CD341E0>)]\n",
      "[('__call__', <function Matcher.__call__ at 0x0000011D5CD26E18>), ('__init__', <function Matcher.__init__ at 0x0000011D5CD26F28>), ('set_low_quality_matches_', <function Matcher.set_low_quality_matches_ at 0x0000011D5CD26EA0>)]\n",
      "[('__init__', <function ImageList.__init__ at 0x0000011D5CD34598>), ('to', <function ImageList.to at 0x0000011D5CD34620>)]\n",
      "[('__init__', <function Timebase.__init__ at 0x0000011D5CF07158>)]\n",
      "[('__init__', <function VideoMetaData.__init__ at 0x0000011D5CF05E18>)]\n"
     ]
    }
   ],
   "source": [
    "import numpy as np\n",
    "import os\n",
    "import pandas as pd\n",
    "import torch\n",
    "import torch.nn as nn\n",
    "import torch.nn.functional as F\n",
    "from torch.utils.data import Dataset\n",
    "from torch.utils.data import DataLoader\n",
    "import torchaudio\n",
    "import torchvision\n",
    "from torchaudio import transforms\n",
    "from efficientnet_pytorch import EfficientNet\n",
    "from sklearn.model_selection import train_test_split\n",
    "from sklearn.metrics import f1_score\n",
    "from tqdm import tqdm"
   ]
  },
  {
   "cell_type": "code",
   "execution_count": 4,
   "metadata": {},
   "outputs": [],
   "source": [
    "import random\n",
    "import numpy as np\n",
    "\n",
    "random.seed(42)\n",
    "np.random.seed(42)\n",
    "torch.manual_seed(42)\n",
    "torch.cuda.manual_seed(42)\n",
    "torch.backends.cudnn.deterministic = True"
   ]
  },
  {
   "cell_type": "code",
   "execution_count": 5,
   "metadata": {},
   "outputs": [
    {
     "data": {
      "text/html": [
       "<div>\n",
       "<style scoped>\n",
       "    .dataframe tbody tr th:only-of-type {\n",
       "        vertical-align: middle;\n",
       "    }\n",
       "\n",
       "    .dataframe tbody tr th {\n",
       "        vertical-align: top;\n",
       "    }\n",
       "\n",
       "    .dataframe thead th {\n",
       "        text-align: right;\n",
       "    }\n",
       "</style>\n",
       "<table border=\"1\" class=\"dataframe\">\n",
       "  <thead>\n",
       "    <tr style=\"text-align: right;\">\n",
       "      <th></th>\n",
       "      <th>fname</th>\n",
       "      <th>label</th>\n",
       "    </tr>\n",
       "  </thead>\n",
       "  <tbody>\n",
       "    <tr>\n",
       "      <td>0</td>\n",
       "      <td>8bcbcc394ba64fe85ed4.wav</td>\n",
       "      <td>Finger_snapping</td>\n",
       "    </tr>\n",
       "    <tr>\n",
       "      <td>1</td>\n",
       "      <td>00d77b917e241afa06f1.wav</td>\n",
       "      <td>Squeak</td>\n",
       "    </tr>\n",
       "  </tbody>\n",
       "</table>\n",
       "</div>"
      ],
      "text/plain": [
       "                      fname            label\n",
       "0  8bcbcc394ba64fe85ed4.wav  Finger_snapping\n",
       "1  00d77b917e241afa06f1.wav           Squeak"
      ]
     },
     "execution_count": 5,
     "metadata": {},
     "output_type": "execute_result"
    }
   ],
   "source": [
    "df_train = pd.read_csv(os.path.join(DATA_PATH, train_meta_fname))\n",
    "df_test = pd.read_csv(os.path.join(DATA_PATH, test_meta_fname))\n",
    "df_train.head(2)"
   ]
  },
  {
   "cell_type": "code",
   "execution_count": 6,
   "metadata": {},
   "outputs": [
    {
     "name": "stdout",
     "output_type": "stream",
     "text": [
      "41\n"
     ]
    },
    {
     "data": {
      "text/html": [
       "<div>\n",
       "<style scoped>\n",
       "    .dataframe tbody tr th:only-of-type {\n",
       "        vertical-align: middle;\n",
       "    }\n",
       "\n",
       "    .dataframe tbody tr th {\n",
       "        vertical-align: top;\n",
       "    }\n",
       "\n",
       "    .dataframe thead th {\n",
       "        text-align: right;\n",
       "    }\n",
       "</style>\n",
       "<table border=\"1\" class=\"dataframe\">\n",
       "  <thead>\n",
       "    <tr style=\"text-align: right;\">\n",
       "      <th></th>\n",
       "      <th>fname</th>\n",
       "      <th>label</th>\n",
       "      <th>label_encoded</th>\n",
       "    </tr>\n",
       "  </thead>\n",
       "  <tbody>\n",
       "    <tr>\n",
       "      <td>0</td>\n",
       "      <td>8bcbcc394ba64fe85ed4.wav</td>\n",
       "      <td>Finger_snapping</td>\n",
       "      <td>0</td>\n",
       "    </tr>\n",
       "    <tr>\n",
       "      <td>1</td>\n",
       "      <td>00d77b917e241afa06f1.wav</td>\n",
       "      <td>Squeak</td>\n",
       "      <td>1</td>\n",
       "    </tr>\n",
       "    <tr>\n",
       "      <td>2</td>\n",
       "      <td>17bb93b73b8e79234cb3.wav</td>\n",
       "      <td>Electric_piano</td>\n",
       "      <td>2</td>\n",
       "    </tr>\n",
       "    <tr>\n",
       "      <td>3</td>\n",
       "      <td>7d5c7a40a936136da55e.wav</td>\n",
       "      <td>Harmonica</td>\n",
       "      <td>3</td>\n",
       "    </tr>\n",
       "    <tr>\n",
       "      <td>4</td>\n",
       "      <td>17e0ee7565a33d6c2326.wav</td>\n",
       "      <td>Snare_drum</td>\n",
       "      <td>4</td>\n",
       "    </tr>\n",
       "  </tbody>\n",
       "</table>\n",
       "</div>"
      ],
      "text/plain": [
       "                      fname            label  label_encoded\n",
       "0  8bcbcc394ba64fe85ed4.wav  Finger_snapping              0\n",
       "1  00d77b917e241afa06f1.wav           Squeak              1\n",
       "2  17bb93b73b8e79234cb3.wav   Electric_piano              2\n",
       "3  7d5c7a40a936136da55e.wav        Harmonica              3\n",
       "4  17e0ee7565a33d6c2326.wav       Snare_drum              4"
      ]
     },
     "execution_count": 6,
     "metadata": {},
     "output_type": "execute_result"
    }
   ],
   "source": [
    "n_classes = df_train.label.nunique()\n",
    "print(n_classes)\n",
    "classes_dict = {cl:i for i,cl in enumerate(df_train.label.unique())}\n",
    "df_train['label_encoded'] = df_train.label.map(classes_dict)\n",
    "df_train.head()"
   ]
  },
  {
   "cell_type": "code",
   "execution_count": 7,
   "metadata": {},
   "outputs": [],
   "source": [
    "class BaseLineModel(nn.Module):\n",
    "    \n",
    "    def __init__(self, sample_rate=16000, n_classes=41):\n",
    "        super().__init__()\n",
    "        self.ms = torchaudio.transforms.MelSpectrogram(sample_rate)\n",
    "#         self.bn1 = nn.BatchNorm2d(1)\n",
    "        \n",
    "        self.cnn1 = nn.Conv2d(in_channels=1, out_channels=10, kernel_size=3, padding=1)\n",
    "        self.cnn3 = nn.Conv2d(in_channels=10, out_channels=3, kernel_size=3, padding=1)\n",
    "        \n",
    "        self.features = EfficientNet.from_pretrained('efficientnet-b0')\n",
    "        # use it as features\n",
    "#         for param in self.features.parameters():\n",
    "#             param.requires_grad = False\n",
    "            \n",
    "        self.lin1 = nn.Linear(1000, 333)\n",
    "        \n",
    "        self.lin2 = nn.Linear(333, 111)\n",
    "                \n",
    "        self.lin3 = nn.Linear(111, n_classes)\n",
    "        \n",
    "    def forward(self, x):\n",
    "        x = self.ms(x)\n",
    "#         x = self.bn1(x)\n",
    "                \n",
    "        x = F.relu(self.cnn1(x))\n",
    "        x = F.relu(self.cnn3(x))\n",
    "        \n",
    "        x = self.features(x)\n",
    "\n",
    "        x = x.view(x.shape[0], -1)\n",
    "        x = F.relu(x)\n",
    "        \n",
    "        x = F.relu(self.lin1(x))\n",
    "        x = F.relu(self.lin2(x))\n",
    "        x = self.lin3(x)\n",
    "        return x\n",
    "    \n",
    "    def inference(self, x):\n",
    "        x = self.forward(x)\n",
    "        x = F.softmax(x)\n",
    "        return x"
   ]
  },
  {
   "cell_type": "code",
   "execution_count": 8,
   "metadata": {},
   "outputs": [],
   "source": [
    "def sample_or_pad(waveform, wav_len=32000):\n",
    "    m, n = waveform.shape\n",
    "    if n < wav_len:\n",
    "        padded_wav = torch.zeros(1, wav_len)\n",
    "        padded_wav[:, :n] = waveform\n",
    "        return padded_wav\n",
    "    elif n > wav_len:\n",
    "        offset = np.random.randint(0, n - wav_len)\n",
    "        sampled_wav = waveform[:, offset:offset+wav_len]\n",
    "        return sampled_wav\n",
    "    else:\n",
    "        return waveform\n",
    "        \n",
    "class EventDetectionDataset(Dataset):\n",
    "    def __init__(self, data_path, x, y=None):\n",
    "        self.x = x\n",
    "        self.y = y\n",
    "        self.data_path = data_path\n",
    "    \n",
    "    def __len__(self):\n",
    "        return len(self.x)\n",
    "\n",
    "    def __getitem__(self, idx):\n",
    "        path2wav = os.path.join(self.data_path, self.x[idx])\n",
    "        waveform, sample_rate = torchaudio.load(path2wav, normalization=True)\n",
    "        waveform = sample_or_pad(waveform)\n",
    "        if self.y is not None:\n",
    "            return waveform, self.y[idx]\n",
    "        return waveform"
   ]
  },
  {
   "cell_type": "code",
   "execution_count": 9,
   "metadata": {},
   "outputs": [],
   "source": [
    "X_train, X_val, y_train, y_val = train_test_split(df_train.fname.values, df_train.label_encoded.values, \n",
    "                                                  test_size=0.2, random_state=42)\n",
    "train_loader = DataLoader(\n",
    "                        EventDetectionDataset(os.path.join(DATA_PATH, train_data_folder), X_train, y_train),\n",
    "                        batch_size=41\n",
    "                )\n",
    "val_loader = DataLoader(\n",
    "                        EventDetectionDataset(os.path.join(DATA_PATH, train_data_folder), X_val, y_val),\n",
    "                        batch_size=41\n",
    "                )\n",
    "test_loader = DataLoader(\n",
    "                        EventDetectionDataset(os.path.join(DATA_PATH, test_data_folder), df_test.fname.values, None),\n",
    "                        batch_size=41, shuffle=False\n",
    "                )"
   ]
  },
  {
   "cell_type": "code",
   "execution_count": 15,
   "metadata": {},
   "outputs": [],
   "source": [
    "def eval_model(model, eval_dataset):\n",
    "    model.eval()\n",
    "    forecast, true_labs = [], []\n",
    "    with torch.no_grad():\n",
    "        for wavs, labs in tqdm(eval_dataset):\n",
    "            wavs, labs = wavs, labs.detach().numpy()\n",
    "            true_labs.append(labs)\n",
    "            outputs = model.inference(wavs)\n",
    "            \n",
    "            outputs = outputs.detach().cpu().numpy().argmax(axis=1)\n",
    "            forecast.append(outputs)\n",
    "    forecast = [x for sublist in forecast for x in sublist]\n",
    "    true_labs = [x for sublist in true_labs for x in sublist]\n",
    "    return f1_score(forecast, true_labs, average='macro')"
   ]
  },
  {
   "cell_type": "code",
   "execution_count": 16,
   "metadata": {},
   "outputs": [
    {
     "name": "stdout",
     "output_type": "stream",
     "text": [
      "Loaded pretrained weights for efficientnet-b0\n"
     ]
    }
   ],
   "source": [
    "criterion = nn.CrossEntropyLoss()\n",
    "model = BaseLineModel()\n",
    "#model = model.cuda()\n",
    "lr = 1e-3\n",
    "\n",
    "optimizer = torch.optim.Adam(model.parameters(), lr=lr)"
   ]
  },
  {
   "cell_type": "code",
   "execution_count": 18,
   "metadata": {},
   "outputs": [
    {
     "name": "stderr",
     "output_type": "stream",
     "text": [
      "100%|████████████████████████████████████████████████████████████████████████████████| 111/111 [12:12<00:00,  6.60s/it]\n",
      "  0%|                                                                                           | 0/28 [00:00<?, ?it/s]c:\\users\\korob\\miniconda3\\lib\\site-packages\\ipykernel_launcher.py:41: UserWarning: Implicit dimension choice for softmax has been deprecated. Change the call to include dim=X as an argument.\n",
      "100%|██████████████████████████████████████████████████████████████████████████████████| 28/28 [01:12<00:00,  2.59s/it]\n",
      "100%|████████████████████████████████████████████████████████████████████████████████| 111/111 [04:26<00:00,  2.40s/it]\n",
      "  0%|                                                                                          | 0/111 [00:00<?, ?it/s]"
     ]
    },
    {
     "name": "stdout",
     "output_type": "stream",
     "text": [
      "epoch: 0, f1_test: 0.42496657714656466, f1_train: 0.4668509285332465\n"
     ]
    },
    {
     "name": "stderr",
     "output_type": "stream",
     "text": [
      "100%|████████████████████████████████████████████████████████████████████████████████| 111/111 [11:50<00:00,  6.40s/it]\n",
      "100%|██████████████████████████████████████████████████████████████████████████████████| 28/28 [01:01<00:00,  2.20s/it]\n",
      "100%|████████████████████████████████████████████████████████████████████████████████| 111/111 [04:16<00:00,  2.31s/it]\n",
      "  0%|                                                                                          | 0/111 [00:00<?, ?it/s]"
     ]
    },
    {
     "name": "stdout",
     "output_type": "stream",
     "text": [
      "epoch: 1, f1_test: 0.48255933469060436, f1_train: 0.542973011223873\n"
     ]
    },
    {
     "name": "stderr",
     "output_type": "stream",
     "text": [
      "100%|████████████████████████████████████████████████████████████████████████████████| 111/111 [12:13<00:00,  6.60s/it]\n",
      "100%|██████████████████████████████████████████████████████████████████████████████████| 28/28 [01:07<00:00,  2.41s/it]\n",
      "100%|████████████████████████████████████████████████████████████████████████████████| 111/111 [04:46<00:00,  2.58s/it]\n",
      "  0%|                                                                                          | 0/111 [00:00<?, ?it/s]"
     ]
    },
    {
     "name": "stdout",
     "output_type": "stream",
     "text": [
      "epoch: 2, f1_test: 0.4843160149493524, f1_train: 0.5793666164062121\n"
     ]
    },
    {
     "name": "stderr",
     "output_type": "stream",
     "text": [
      "100%|████████████████████████████████████████████████████████████████████████████████| 111/111 [11:20<00:00,  6.13s/it]\n",
      "100%|██████████████████████████████████████████████████████████████████████████████████| 28/28 [01:01<00:00,  2.18s/it]\n",
      "100%|████████████████████████████████████████████████████████████████████████████████| 111/111 [04:04<00:00,  2.21s/it]\n",
      "  0%|                                                                                          | 0/111 [00:00<?, ?it/s]"
     ]
    },
    {
     "name": "stdout",
     "output_type": "stream",
     "text": [
      "epoch: 3, f1_test: 0.5269023835015978, f1_train: 0.643926084664228\n"
     ]
    },
    {
     "name": "stderr",
     "output_type": "stream",
     "text": [
      "100%|████████████████████████████████████████████████████████████████████████████████| 111/111 [11:35<00:00,  6.27s/it]\n",
      "100%|██████████████████████████████████████████████████████████████████████████████████| 28/28 [01:05<00:00,  2.35s/it]\n",
      "100%|████████████████████████████████████████████████████████████████████████████████| 111/111 [04:04<00:00,  2.20s/it]\n",
      "  0%|                                                                                          | 0/111 [00:00<?, ?it/s]"
     ]
    },
    {
     "name": "stdout",
     "output_type": "stream",
     "text": [
      "epoch: 4, f1_test: 0.5538058712963723, f1_train: 0.6585966687505697\n"
     ]
    },
    {
     "name": "stderr",
     "output_type": "stream",
     "text": [
      "100%|████████████████████████████████████████████████████████████████████████████████| 111/111 [11:06<00:00,  6.01s/it]\n",
      "100%|██████████████████████████████████████████████████████████████████████████████████| 28/28 [01:01<00:00,  2.19s/it]\n",
      "100%|████████████████████████████████████████████████████████████████████████████████| 111/111 [04:04<00:00,  2.20s/it]\n",
      "  0%|                                                                                          | 0/111 [00:00<?, ?it/s]"
     ]
    },
    {
     "name": "stdout",
     "output_type": "stream",
     "text": [
      "epoch: 5, f1_test: 0.5741030017128987, f1_train: 0.7037890015956483\n"
     ]
    },
    {
     "name": "stderr",
     "output_type": "stream",
     "text": [
      "100%|████████████████████████████████████████████████████████████████████████████████| 111/111 [11:08<00:00,  6.02s/it]\n",
      "100%|██████████████████████████████████████████████████████████████████████████████████| 28/28 [01:01<00:00,  2.19s/it]\n",
      "100%|████████████████████████████████████████████████████████████████████████████████| 111/111 [04:05<00:00,  2.21s/it]\n",
      "  0%|                                                                                          | 0/111 [00:00<?, ?it/s]"
     ]
    },
    {
     "name": "stdout",
     "output_type": "stream",
     "text": [
      "epoch: 6, f1_test: 0.5872608452648519, f1_train: 0.7339724947629664\n"
     ]
    },
    {
     "name": "stderr",
     "output_type": "stream",
     "text": [
      "100%|████████████████████████████████████████████████████████████████████████████████| 111/111 [11:07<00:00,  6.01s/it]\n",
      "100%|██████████████████████████████████████████████████████████████████████████████████| 28/28 [01:01<00:00,  2.20s/it]\n",
      "100%|████████████████████████████████████████████████████████████████████████████████| 111/111 [04:03<00:00,  2.19s/it]\n",
      "  0%|                                                                                          | 0/111 [00:00<?, ?it/s]"
     ]
    },
    {
     "name": "stdout",
     "output_type": "stream",
     "text": [
      "epoch: 7, f1_test: 0.5607436148325768, f1_train: 0.7176051836571025\n"
     ]
    },
    {
     "name": "stderr",
     "output_type": "stream",
     "text": [
      "100%|████████████████████████████████████████████████████████████████████████████████| 111/111 [11:11<00:00,  6.05s/it]\n",
      "100%|██████████████████████████████████████████████████████████████████████████████████| 28/28 [01:05<00:00,  2.33s/it]\n",
      "100%|████████████████████████████████████████████████████████████████████████████████| 111/111 [04:08<00:00,  2.24s/it]\n",
      "  0%|                                                                                          | 0/111 [00:00<?, ?it/s]"
     ]
    },
    {
     "name": "stdout",
     "output_type": "stream",
     "text": [
      "epoch: 8, f1_test: 0.6180821371037862, f1_train: 0.7768044138396868\n"
     ]
    },
    {
     "name": "stderr",
     "output_type": "stream",
     "text": [
      "100%|████████████████████████████████████████████████████████████████████████████████| 111/111 [11:17<00:00,  6.10s/it]\n",
      "100%|██████████████████████████████████████████████████████████████████████████████████| 28/28 [01:04<00:00,  2.32s/it]\n",
      "100%|████████████████████████████████████████████████████████████████████████████████| 111/111 [04:27<00:00,  2.41s/it]\n",
      "  0%|                                                                                          | 0/111 [00:00<?, ?it/s]"
     ]
    },
    {
     "name": "stdout",
     "output_type": "stream",
     "text": [
      "epoch: 9, f1_test: 0.5852762778914122, f1_train: 0.7385453795567016\n"
     ]
    },
    {
     "name": "stderr",
     "output_type": "stream",
     "text": [
      "100%|████████████████████████████████████████████████████████████████████████████████| 111/111 [11:36<00:00,  6.27s/it]\n",
      "100%|██████████████████████████████████████████████████████████████████████████████████| 28/28 [01:06<00:00,  2.39s/it]\n",
      "100%|████████████████████████████████████████████████████████████████████████████████| 111/111 [04:11<00:00,  2.27s/it]\n",
      "  0%|                                                                                          | 0/111 [00:00<?, ?it/s]"
     ]
    },
    {
     "name": "stdout",
     "output_type": "stream",
     "text": [
      "epoch: 10, f1_test: 0.6133221795413627, f1_train: 0.8197236008179148\n"
     ]
    },
    {
     "name": "stderr",
     "output_type": "stream",
     "text": [
      "100%|████████████████████████████████████████████████████████████████████████████████| 111/111 [11:09<00:00,  6.03s/it]\n",
      "100%|██████████████████████████████████████████████████████████████████████████████████| 28/28 [01:01<00:00,  2.18s/it]\n",
      "100%|████████████████████████████████████████████████████████████████████████████████| 111/111 [04:05<00:00,  2.21s/it]\n",
      "  0%|                                                                                          | 0/111 [00:00<?, ?it/s]"
     ]
    },
    {
     "name": "stdout",
     "output_type": "stream",
     "text": [
      "epoch: 11, f1_test: 0.6179155716680674, f1_train: 0.810099557351364\n"
     ]
    },
    {
     "name": "stderr",
     "output_type": "stream",
     "text": [
      "100%|████████████████████████████████████████████████████████████████████████████████| 111/111 [11:17<00:00,  6.10s/it]\n",
      "100%|██████████████████████████████████████████████████████████████████████████████████| 28/28 [00:59<00:00,  2.14s/it]\n",
      "100%|████████████████████████████████████████████████████████████████████████████████| 111/111 [03:59<00:00,  2.16s/it]\n",
      "  0%|                                                                                          | 0/111 [00:00<?, ?it/s]"
     ]
    },
    {
     "name": "stdout",
     "output_type": "stream",
     "text": [
      "epoch: 12, f1_test: 0.6314095243491398, f1_train: 0.8306109040160145\n"
     ]
    },
    {
     "name": "stderr",
     "output_type": "stream",
     "text": [
      "100%|████████████████████████████████████████████████████████████████████████████████| 111/111 [10:55<00:00,  5.91s/it]\n",
      "100%|██████████████████████████████████████████████████████████████████████████████████| 28/28 [01:00<00:00,  2.15s/it]\n",
      "100%|████████████████████████████████████████████████████████████████████████████████| 111/111 [04:00<00:00,  2.17s/it]\n",
      "  0%|                                                                                          | 0/111 [00:00<?, ?it/s]"
     ]
    },
    {
     "name": "stdout",
     "output_type": "stream",
     "text": [
      "epoch: 13, f1_test: 0.6421843538819514, f1_train: 0.8462018033486283\n"
     ]
    },
    {
     "name": "stderr",
     "output_type": "stream",
     "text": [
      "100%|████████████████████████████████████████████████████████████████████████████████| 111/111 [10:51<00:00,  5.87s/it]\n",
      "100%|██████████████████████████████████████████████████████████████████████████████████| 28/28 [00:59<00:00,  2.14s/it]\n",
      "100%|████████████████████████████████████████████████████████████████████████████████| 111/111 [04:00<00:00,  2.17s/it]\n",
      "  0%|                                                                                          | 0/111 [00:00<?, ?it/s]"
     ]
    },
    {
     "name": "stdout",
     "output_type": "stream",
     "text": [
      "epoch: 14, f1_test: 0.6302511059398754, f1_train: 0.8319105029667964\n"
     ]
    },
    {
     "name": "stderr",
     "output_type": "stream",
     "text": [
      "100%|████████████████████████████████████████████████████████████████████████████████| 111/111 [11:18<00:00,  6.11s/it]\n",
      "100%|██████████████████████████████████████████████████████████████████████████████████| 28/28 [01:07<00:00,  2.41s/it]\n",
      "100%|████████████████████████████████████████████████████████████████████████████████| 111/111 [04:30<00:00,  2.44s/it]\n",
      "  0%|                                                                                          | 0/111 [00:00<?, ?it/s]"
     ]
    },
    {
     "name": "stdout",
     "output_type": "stream",
     "text": [
      "epoch: 15, f1_test: 0.6460468579399995, f1_train: 0.8503507341710591\n"
     ]
    },
    {
     "name": "stderr",
     "output_type": "stream",
     "text": [
      "100%|████████████████████████████████████████████████████████████████████████████████| 111/111 [12:29<00:00,  6.76s/it]\n",
      "100%|██████████████████████████████████████████████████████████████████████████████████| 28/28 [01:08<00:00,  2.45s/it]\n",
      "100%|████████████████████████████████████████████████████████████████████████████████| 111/111 [04:33<00:00,  2.46s/it]\n",
      "  0%|                                                                                          | 0/111 [00:00<?, ?it/s]"
     ]
    },
    {
     "name": "stdout",
     "output_type": "stream",
     "text": [
      "epoch: 16, f1_test: 0.6462227446930131, f1_train: 0.840144015276612\n"
     ]
    },
    {
     "name": "stderr",
     "output_type": "stream",
     "text": [
      "100%|████████████████████████████████████████████████████████████████████████████████| 111/111 [12:12<00:00,  6.60s/it]\n",
      "100%|██████████████████████████████████████████████████████████████████████████████████| 28/28 [01:06<00:00,  2.37s/it]\n",
      "100%|████████████████████████████████████████████████████████████████████████████████| 111/111 [04:20<00:00,  2.34s/it]\n",
      "  0%|                                                                                          | 0/111 [00:00<?, ?it/s]"
     ]
    },
    {
     "name": "stdout",
     "output_type": "stream",
     "text": [
      "epoch: 17, f1_test: 0.6427181056520704, f1_train: 0.8703213335701399\n"
     ]
    },
    {
     "name": "stderr",
     "output_type": "stream",
     "text": [
      "100%|████████████████████████████████████████████████████████████████████████████████| 111/111 [11:51<00:00,  6.41s/it]\n",
      "100%|██████████████████████████████████████████████████████████████████████████████████| 28/28 [01:05<00:00,  2.34s/it]\n",
      "100%|████████████████████████████████████████████████████████████████████████████████| 111/111 [04:18<00:00,  2.33s/it]\n",
      "  0%|                                                                                          | 0/111 [00:00<?, ?it/s]"
     ]
    },
    {
     "name": "stdout",
     "output_type": "stream",
     "text": [
      "epoch: 18, f1_test: 0.6725184630817795, f1_train: 0.8748815305771409\n"
     ]
    },
    {
     "name": "stderr",
     "output_type": "stream",
     "text": [
      "100%|████████████████████████████████████████████████████████████████████████████████| 111/111 [11:36<00:00,  6.27s/it]\n",
      "100%|██████████████████████████████████████████████████████████████████████████████████| 28/28 [01:01<00:00,  2.19s/it]\n",
      "100%|████████████████████████████████████████████████████████████████████████████████| 111/111 [04:05<00:00,  2.21s/it]\n",
      "  0%|                                                                                          | 0/111 [00:00<?, ?it/s]"
     ]
    },
    {
     "name": "stdout",
     "output_type": "stream",
     "text": [
      "epoch: 19, f1_test: 0.624823007961998, f1_train: 0.849093824651509\n"
     ]
    },
    {
     "name": "stderr",
     "output_type": "stream",
     "text": [
      "100%|████████████████████████████████████████████████████████████████████████████████| 111/111 [11:50<00:00,  6.40s/it]\n",
      "100%|██████████████████████████████████████████████████████████████████████████████████| 28/28 [01:06<00:00,  2.37s/it]\n",
      "100%|████████████████████████████████████████████████████████████████████████████████| 111/111 [04:26<00:00,  2.40s/it]\n",
      "  0%|                                                                                          | 0/111 [00:00<?, ?it/s]"
     ]
    },
    {
     "name": "stdout",
     "output_type": "stream",
     "text": [
      "epoch: 20, f1_test: 0.6176724697989304, f1_train: 0.8514716787884095\n"
     ]
    },
    {
     "name": "stderr",
     "output_type": "stream",
     "text": [
      "100%|████████████████████████████████████████████████████████████████████████████████| 111/111 [12:06<00:00,  6.55s/it]\n",
      "100%|██████████████████████████████████████████████████████████████████████████████████| 28/28 [01:01<00:00,  2.20s/it]\n",
      "100%|████████████████████████████████████████████████████████████████████████████████| 111/111 [04:08<00:00,  2.23s/it]\n",
      "  0%|                                                                                          | 0/111 [00:00<?, ?it/s]"
     ]
    },
    {
     "name": "stdout",
     "output_type": "stream",
     "text": [
      "epoch: 21, f1_test: 0.6428646440798416, f1_train: 0.8687846976372715\n"
     ]
    },
    {
     "name": "stderr",
     "output_type": "stream",
     "text": [
      "100%|████████████████████████████████████████████████████████████████████████████████| 111/111 [11:12<00:00,  6.05s/it]\n",
      "100%|██████████████████████████████████████████████████████████████████████████████████| 28/28 [01:01<00:00,  2.20s/it]\n",
      "100%|████████████████████████████████████████████████████████████████████████████████| 111/111 [04:06<00:00,  2.22s/it]\n",
      "  0%|                                                                                          | 0/111 [00:00<?, ?it/s]"
     ]
    },
    {
     "name": "stdout",
     "output_type": "stream",
     "text": [
      "epoch: 22, f1_test: 0.6578924146704908, f1_train: 0.8877418536428068\n"
     ]
    },
    {
     "name": "stderr",
     "output_type": "stream",
     "text": [
      "100%|████████████████████████████████████████████████████████████████████████████████| 111/111 [11:13<00:00,  6.06s/it]\n",
      "100%|██████████████████████████████████████████████████████████████████████████████████| 28/28 [01:05<00:00,  2.35s/it]\n",
      "100%|████████████████████████████████████████████████████████████████████████████████| 111/111 [04:38<00:00,  2.51s/it]\n",
      "  0%|                                                                                          | 0/111 [00:00<?, ?it/s]"
     ]
    },
    {
     "name": "stdout",
     "output_type": "stream",
     "text": [
      "epoch: 23, f1_test: 0.6704999105003182, f1_train: 0.903130425244151\n"
     ]
    },
    {
     "name": "stderr",
     "output_type": "stream",
     "text": [
      "100%|████████████████████████████████████████████████████████████████████████████████| 111/111 [11:24<00:00,  6.17s/it]\n",
      "100%|██████████████████████████████████████████████████████████████████████████████████| 28/28 [01:05<00:00,  2.32s/it]\n",
      "100%|████████████████████████████████████████████████████████████████████████████████| 111/111 [04:04<00:00,  2.20s/it]\n",
      "  0%|                                                                                          | 0/111 [00:00<?, ?it/s]"
     ]
    },
    {
     "name": "stdout",
     "output_type": "stream",
     "text": [
      "epoch: 24, f1_test: 0.684427876691927, f1_train: 0.9041647732894159\n"
     ]
    },
    {
     "name": "stderr",
     "output_type": "stream",
     "text": [
      "100%|████████████████████████████████████████████████████████████████████████████████| 111/111 [18:48<00:00, 10.16s/it]\n",
      "100%|██████████████████████████████████████████████████████████████████████████████████| 28/28 [01:52<00:00,  4.02s/it]\n",
      "100%|████████████████████████████████████████████████████████████████████████████████| 111/111 [07:21<00:00,  3.98s/it]\n",
      "  0%|                                                                                          | 0/111 [00:00<?, ?it/s]"
     ]
    },
    {
     "name": "stdout",
     "output_type": "stream",
     "text": [
      "epoch: 25, f1_test: 0.6634983165104678, f1_train: 0.8771982456440346\n"
     ]
    },
    {
     "name": "stderr",
     "output_type": "stream",
     "text": [
      "100%|████████████████████████████████████████████████████████████████████████████████| 111/111 [21:33<00:00, 11.65s/it]\n",
      "100%|██████████████████████████████████████████████████████████████████████████████████| 28/28 [01:51<00:00,  3.99s/it]\n",
      "100%|████████████████████████████████████████████████████████████████████████████████| 111/111 [07:42<00:00,  4.16s/it]\n",
      "  0%|                                                                                          | 0/111 [00:00<?, ?it/s]"
     ]
    },
    {
     "name": "stdout",
     "output_type": "stream",
     "text": [
      "epoch: 26, f1_test: 0.6539893211597941, f1_train: 0.8932321751879675\n"
     ]
    },
    {
     "name": "stderr",
     "output_type": "stream",
     "text": [
      "100%|████████████████████████████████████████████████████████████████████████████████| 111/111 [22:09<00:00, 11.97s/it]\n",
      "100%|██████████████████████████████████████████████████████████████████████████████████| 28/28 [02:16<00:00,  4.89s/it]\n",
      "100%|████████████████████████████████████████████████████████████████████████████████| 111/111 [08:17<00:00,  4.48s/it]\n",
      "  0%|                                                                                          | 0/111 [00:00<?, ?it/s]"
     ]
    },
    {
     "name": "stdout",
     "output_type": "stream",
     "text": [
      "epoch: 27, f1_test: 0.6611616914166865, f1_train: 0.9012976898611895\n"
     ]
    },
    {
     "name": "stderr",
     "output_type": "stream",
     "text": [
      "100%|████████████████████████████████████████████████████████████████████████████████| 111/111 [21:45<00:00, 11.76s/it]\n",
      "100%|██████████████████████████████████████████████████████████████████████████████████| 28/28 [02:00<00:00,  4.32s/it]\n",
      "100%|████████████████████████████████████████████████████████████████████████████████| 111/111 [08:04<00:00,  4.36s/it]\n",
      "  0%|                                                                                          | 0/111 [00:00<?, ?it/s]"
     ]
    },
    {
     "name": "stdout",
     "output_type": "stream",
     "text": [
      "epoch: 28, f1_test: 0.6748102265939406, f1_train: 0.9011686236064502\n"
     ]
    },
    {
     "name": "stderr",
     "output_type": "stream",
     "text": [
      "100%|████████████████████████████████████████████████████████████████████████████████| 111/111 [16:05<00:00,  8.70s/it]\n",
      "100%|██████████████████████████████████████████████████████████████████████████████████| 28/28 [01:00<00:00,  2.18s/it]\n",
      "100%|████████████████████████████████████████████████████████████████████████████████| 111/111 [03:54<00:00,  2.11s/it]\n",
      "  0%|                                                                                          | 0/111 [00:00<?, ?it/s]"
     ]
    },
    {
     "name": "stdout",
     "output_type": "stream",
     "text": [
      "epoch: 29, f1_test: 0.6761940007831202, f1_train: 0.906396985747281\n"
     ]
    },
    {
     "name": "stderr",
     "output_type": "stream",
     "text": [
      "100%|████████████████████████████████████████████████████████████████████████████████| 111/111 [09:59<00:00,  5.40s/it]\n",
      "100%|██████████████████████████████████████████████████████████████████████████████████| 28/28 [00:56<00:00,  2.01s/it]\n",
      "100%|████████████████████████████████████████████████████████████████████████████████| 111/111 [03:42<00:00,  2.00s/it]\n",
      "  0%|                                                                                          | 0/111 [00:00<?, ?it/s]"
     ]
    },
    {
     "name": "stdout",
     "output_type": "stream",
     "text": [
      "epoch: 30, f1_test: 0.6415436652043897, f1_train: 0.8936976397159412\n"
     ]
    },
    {
     "name": "stderr",
     "output_type": "stream",
     "text": [
      "100%|████████████████████████████████████████████████████████████████████████████████| 111/111 [09:58<00:00,  5.39s/it]\n",
      "100%|██████████████████████████████████████████████████████████████████████████████████| 28/28 [00:55<00:00,  1.99s/it]\n",
      "100%|████████████████████████████████████████████████████████████████████████████████| 111/111 [03:41<00:00,  2.00s/it]\n",
      "  0%|                                                                                          | 0/111 [00:00<?, ?it/s]"
     ]
    },
    {
     "name": "stdout",
     "output_type": "stream",
     "text": [
      "epoch: 31, f1_test: 0.6753400579877519, f1_train: 0.9158972900139448\n"
     ]
    },
    {
     "name": "stderr",
     "output_type": "stream",
     "text": [
      "100%|████████████████████████████████████████████████████████████████████████████████| 111/111 [09:58<00:00,  5.40s/it]\n",
      "100%|██████████████████████████████████████████████████████████████████████████████████| 28/28 [00:56<00:00,  2.00s/it]\n",
      "100%|████████████████████████████████████████████████████████████████████████████████| 111/111 [03:42<00:00,  2.01s/it]\n",
      "  0%|                                                                                          | 0/111 [00:00<?, ?it/s]"
     ]
    },
    {
     "name": "stdout",
     "output_type": "stream",
     "text": [
      "epoch: 32, f1_test: 0.6620112971940947, f1_train: 0.9091410485335003\n"
     ]
    },
    {
     "name": "stderr",
     "output_type": "stream",
     "text": [
      "100%|████████████████████████████████████████████████████████████████████████████████| 111/111 [09:59<00:00,  5.40s/it]\n",
      "100%|██████████████████████████████████████████████████████████████████████████████████| 28/28 [00:55<00:00,  1.99s/it]\n",
      "100%|████████████████████████████████████████████████████████████████████████████████| 111/111 [03:43<00:00,  2.01s/it]\n",
      "  0%|                                                                                          | 0/111 [00:00<?, ?it/s]"
     ]
    },
    {
     "name": "stdout",
     "output_type": "stream",
     "text": [
      "epoch: 33, f1_test: 0.6566037050570412, f1_train: 0.9093529505891775\n"
     ]
    },
    {
     "name": "stderr",
     "output_type": "stream",
     "text": [
      "100%|████████████████████████████████████████████████████████████████████████████████| 111/111 [10:00<00:00,  5.41s/it]\n",
      "100%|██████████████████████████████████████████████████████████████████████████████████| 28/28 [00:55<00:00,  1.99s/it]\n",
      "100%|████████████████████████████████████████████████████████████████████████████████| 111/111 [03:41<00:00,  1.99s/it]\n",
      "  0%|                                                                                          | 0/111 [00:00<?, ?it/s]"
     ]
    },
    {
     "name": "stdout",
     "output_type": "stream",
     "text": [
      "epoch: 34, f1_test: 0.6716165761794937, f1_train: 0.930263769408592\n"
     ]
    },
    {
     "name": "stderr",
     "output_type": "stream",
     "text": [
      "100%|████████████████████████████████████████████████████████████████████████████████| 111/111 [09:58<00:00,  5.39s/it]\n",
      "100%|██████████████████████████████████████████████████████████████████████████████████| 28/28 [00:55<00:00,  1.98s/it]\n",
      "100%|████████████████████████████████████████████████████████████████████████████████| 111/111 [03:41<00:00,  2.00s/it]\n",
      "  0%|                                                                                          | 0/111 [00:00<?, ?it/s]"
     ]
    },
    {
     "name": "stdout",
     "output_type": "stream",
     "text": [
      "epoch: 35, f1_test: 0.6933909302396194, f1_train: 0.9237755343573771\n"
     ]
    },
    {
     "name": "stderr",
     "output_type": "stream",
     "text": [
      "100%|████████████████████████████████████████████████████████████████████████████████| 111/111 [10:01<00:00,  5.42s/it]\n",
      "100%|██████████████████████████████████████████████████████████████████████████████████| 28/28 [00:56<00:00,  2.00s/it]\n",
      "100%|████████████████████████████████████████████████████████████████████████████████| 111/111 [03:42<00:00,  2.00s/it]\n",
      "  0%|                                                                                          | 0/111 [00:00<?, ?it/s]"
     ]
    },
    {
     "name": "stdout",
     "output_type": "stream",
     "text": [
      "epoch: 36, f1_test: 0.6620078526529273, f1_train: 0.9049846537152696\n"
     ]
    },
    {
     "name": "stderr",
     "output_type": "stream",
     "text": [
      "100%|████████████████████████████████████████████████████████████████████████████████| 111/111 [10:01<00:00,  5.42s/it]\n",
      "100%|██████████████████████████████████████████████████████████████████████████████████| 28/28 [00:55<00:00,  1.99s/it]\n",
      "100%|████████████████████████████████████████████████████████████████████████████████| 111/111 [03:42<00:00,  2.00s/it]\n",
      "  0%|                                                                                          | 0/111 [00:00<?, ?it/s]"
     ]
    },
    {
     "name": "stdout",
     "output_type": "stream",
     "text": [
      "epoch: 37, f1_test: 0.6687475920242967, f1_train: 0.909402831620273\n"
     ]
    },
    {
     "name": "stderr",
     "output_type": "stream",
     "text": [
      "100%|████████████████████████████████████████████████████████████████████████████████| 111/111 [10:00<00:00,  5.41s/it]\n",
      "100%|██████████████████████████████████████████████████████████████████████████████████| 28/28 [00:55<00:00,  2.00s/it]\n",
      "100%|████████████████████████████████████████████████████████████████████████████████| 111/111 [03:44<00:00,  2.02s/it]\n",
      "  0%|                                                                                          | 0/111 [00:00<?, ?it/s]"
     ]
    },
    {
     "name": "stdout",
     "output_type": "stream",
     "text": [
      "epoch: 38, f1_test: 0.6752075590214087, f1_train: 0.917197801298912\n"
     ]
    },
    {
     "name": "stderr",
     "output_type": "stream",
     "text": [
      "100%|████████████████████████████████████████████████████████████████████████████████| 111/111 [10:03<00:00,  5.44s/it]\n",
      "100%|██████████████████████████████████████████████████████████████████████████████████| 28/28 [00:55<00:00,  1.99s/it]\n",
      "100%|████████████████████████████████████████████████████████████████████████████████| 111/111 [03:42<00:00,  2.00s/it]\n",
      "  0%|                                                                                          | 0/111 [00:00<?, ?it/s]"
     ]
    },
    {
     "name": "stdout",
     "output_type": "stream",
     "text": [
      "epoch: 39, f1_test: 0.6530199718289046, f1_train: 0.9185241181240128\n"
     ]
    },
    {
     "name": "stderr",
     "output_type": "stream",
     "text": [
      "100%|████████████████████████████████████████████████████████████████████████████████| 111/111 [09:59<00:00,  5.40s/it]\n",
      "100%|██████████████████████████████████████████████████████████████████████████████████| 28/28 [00:55<00:00,  1.99s/it]\n",
      "100%|████████████████████████████████████████████████████████████████████████████████| 111/111 [03:43<00:00,  2.01s/it]\n",
      "  0%|                                                                                          | 0/111 [00:00<?, ?it/s]"
     ]
    },
    {
     "name": "stdout",
     "output_type": "stream",
     "text": [
      "epoch: 40, f1_test: 0.6638921283494718, f1_train: 0.9214533408957875\n"
     ]
    },
    {
     "name": "stderr",
     "output_type": "stream",
     "text": [
      "100%|████████████████████████████████████████████████████████████████████████████████| 111/111 [09:59<00:00,  5.40s/it]\n",
      "100%|██████████████████████████████████████████████████████████████████████████████████| 28/28 [00:55<00:00,  1.98s/it]\n",
      "100%|████████████████████████████████████████████████████████████████████████████████| 111/111 [03:43<00:00,  2.01s/it]\n",
      "  0%|                                                                                          | 0/111 [00:00<?, ?it/s]"
     ]
    },
    {
     "name": "stdout",
     "output_type": "stream",
     "text": [
      "epoch: 41, f1_test: 0.7013836705480122, f1_train: 0.9212211908583257\n"
     ]
    },
    {
     "name": "stderr",
     "output_type": "stream",
     "text": [
      "100%|████████████████████████████████████████████████████████████████████████████████| 111/111 [10:00<00:00,  5.41s/it]\n",
      "100%|██████████████████████████████████████████████████████████████████████████████████| 28/28 [00:55<00:00,  1.98s/it]\n",
      "100%|████████████████████████████████████████████████████████████████████████████████| 111/111 [03:41<00:00,  2.00s/it]\n",
      "  0%|                                                                                          | 0/111 [00:00<?, ?it/s]"
     ]
    },
    {
     "name": "stdout",
     "output_type": "stream",
     "text": [
      "epoch: 42, f1_test: 0.6817848032262303, f1_train: 0.9222123710036141\n"
     ]
    },
    {
     "name": "stderr",
     "output_type": "stream",
     "text": [
      "100%|████████████████████████████████████████████████████████████████████████████████| 111/111 [09:56<00:00,  5.37s/it]\n",
      "100%|██████████████████████████████████████████████████████████████████████████████████| 28/28 [00:55<00:00,  1.97s/it]\n",
      "100%|████████████████████████████████████████████████████████████████████████████████| 111/111 [03:40<00:00,  1.99s/it]\n",
      "  0%|                                                                                          | 0/111 [00:00<?, ?it/s]"
     ]
    },
    {
     "name": "stdout",
     "output_type": "stream",
     "text": [
      "epoch: 43, f1_test: 0.698170526193128, f1_train: 0.9236982471605797\n"
     ]
    },
    {
     "name": "stderr",
     "output_type": "stream",
     "text": [
      "100%|████████████████████████████████████████████████████████████████████████████████| 111/111 [09:56<00:00,  5.38s/it]\n",
      "100%|██████████████████████████████████████████████████████████████████████████████████| 28/28 [00:55<00:00,  1.99s/it]\n",
      "100%|████████████████████████████████████████████████████████████████████████████████| 111/111 [03:41<00:00,  2.00s/it]"
     ]
    },
    {
     "name": "stdout",
     "output_type": "stream",
     "text": [
      "epoch: 44, f1_test: 0.6816149078025162, f1_train: 0.9231748564797034\n"
     ]
    },
    {
     "name": "stderr",
     "output_type": "stream",
     "text": [
      "\n"
     ]
    }
   ],
   "source": [
    "n_epoch = 45\n",
    "best_f1 = 0\n",
    "for epoch in range(n_epoch):\n",
    "    model.train()\n",
    "    for wavs, labs in tqdm(train_loader):\n",
    "        optimizer.zero_grad()\n",
    "        wavs, labs = wavs, labs\n",
    "        outputs = model(wavs)\n",
    "        loss = criterion(outputs, labs)\n",
    "        loss.backward()\n",
    "        optimizer.step()\n",
    "#     if epoch % 10 == 0:\n",
    "    f1 = eval_model(model, val_loader)\n",
    "    f1_train = eval_model(model, train_loader)\n",
    "    print(f'epoch: {epoch}, f1_test: {f1}, f1_train: {f1_train}')\n",
    "    if f1 > best_f1:\n",
    "        best_f1 = f1\n",
    "        torch.save(model.state_dict(), '../baseline_fulldiv.pt')\n",
    "        \n",
    "    lr = lr * 0.95\n",
    "    for param_group in optimizer.param_groups:\n",
    "        param_group['lr'] = lr"
   ]
  },
  {
   "cell_type": "code",
   "execution_count": 21,
   "metadata": {},
   "outputs": [
    {
     "name": "stderr",
     "output_type": "stream",
     "text": [
      "\r",
      "  0%|                                                                                           | 0/93 [00:00<?, ?it/s]"
     ]
    },
    {
     "name": "stdout",
     "output_type": "stream",
     "text": [
      "Loaded pretrained weights for efficientnet-b0\n"
     ]
    },
    {
     "name": "stderr",
     "output_type": "stream",
     "text": [
      "c:\\users\\korob\\miniconda3\\lib\\site-packages\\ipykernel_launcher.py:41: UserWarning: Implicit dimension choice for softmax has been deprecated. Change the call to include dim=X as an argument.\n",
      "100%|██████████████████████████████████████████████████████████████████████████████████| 93/93 [03:37<00:00,  2.34s/it]\n"
     ]
    }
   ],
   "source": [
    "model_name = 'baseline_fulldiv.pt'\n",
    "model = BaseLineModel()\n",
    "model.load_state_dict(torch.load(os.path.join('..', model_name)))\n",
    "model.eval()\n",
    "forecast = []\n",
    "with torch.no_grad():\n",
    "    for wavs in tqdm(test_loader):\n",
    "        wavs = wavs\n",
    "        outputs = model.inference(wavs)\n",
    "        outputs = outputs.detach().cpu().numpy().argmax(axis=1)\n",
    "        forecast.append(outputs)\n",
    "forecast = [x for sublist in forecast for x in sublist]\n",
    "decoder = {classes_dict[cl]:cl for cl in classes_dict}\n",
    "forecast = pd.Series(forecast).map(decoder)\n",
    "df_test['label'] = forecast\n",
    "df_test.to_csv(f'{model_name}.csv', index=None)"
   ]
  },
  {
   "cell_type": "code",
   "execution_count": null,
   "metadata": {},
   "outputs": [],
   "source": []
  }
 ],
 "metadata": {
  "kernelspec": {
   "display_name": "Python 3",
   "language": "python",
   "name": "python3"
  },
  "language_info": {
   "codemirror_mode": {
    "name": "ipython",
    "version": 3
   },
   "file_extension": ".py",
   "mimetype": "text/x-python",
   "name": "python",
   "nbconvert_exporter": "python",
   "pygments_lexer": "ipython3",
   "version": "3.7.3"
  }
 },
 "nbformat": 4,
 "nbformat_minor": 2
}
